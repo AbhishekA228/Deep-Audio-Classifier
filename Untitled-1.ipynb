{
 "cells": [
  {
   "cell_type": "code",
   "execution_count": 60,
   "metadata": {},
   "outputs": [],
   "source": [
    "import os\n",
    "from matplotlib import pyplot as plt\n",
    "import tensorflow as tf"
   ]
  },
  {
   "cell_type": "code",
   "execution_count": 61,
   "metadata": {},
   "outputs": [],
   "source": [
    "import tensorflow_io as tfio"
   ]
  },
  {
   "cell_type": "code",
   "execution_count": 62,
   "metadata": {},
   "outputs": [],
   "source": [
    "CAPUCHIN_FILE=r\"data\\Parsed_Capuchinbird_Clips\\XC3776-0.wav\"\n",
    "NOT_CAPUCHIN_FILE=r\"data\\Parsed_Not_Capuchinbird_Clips\\afternoon-birds-song-in-forest-0.wav\""
   ]
  },
  {
   "cell_type": "code",
   "execution_count": 63,
   "metadata": {},
   "outputs": [
    {
     "data": {
      "text/plain": [
       "'data\\\\Parsed_Capuchinbird_Clips\\\\XC3776-0.wav'"
      ]
     },
     "execution_count": 63,
     "metadata": {},
     "output_type": "execute_result"
    }
   ],
   "source": [
    "CAPUCHIN_FILE"
   ]
  },
  {
   "cell_type": "code",
   "execution_count": 64,
   "metadata": {},
   "outputs": [
    {
     "data": {
      "text/plain": [
       "'data\\\\Parsed_Not_Capuchinbird_Clips\\\\afternoon-birds-song-in-forest-0.wav'"
      ]
     },
     "execution_count": 64,
     "metadata": {},
     "output_type": "execute_result"
    }
   ],
   "source": [
    "NOT_CAPUCHIN_FILE"
   ]
  },
  {
   "cell_type": "code",
   "execution_count": 66,
   "metadata": {},
   "outputs": [],
   "source": [
    "def load_wav_16k_mono(filename):\n",
    "    file_contents=tf.io.read_file(filename)\n",
    "    wav,sample_rate=tf.audio.decode_wav(file_contents,desired_channels=1)\n",
    "    wav=tf.squeeze(wav,axis=-1)\n",
    "    sample_rate=tf.cast(sample_rate,dtype=tf.int64)\n",
    "    wav=tfio.audio.resample(wav,rate_in=sample_rate,rate_out=16000)\n",
    "    return wav"
   ]
  },
  {
   "cell_type": "code",
   "execution_count": null,
   "metadata": {},
   "outputs": [],
   "source": [
    "wave=load_wav_16k_mono(CAPUCHIN_FILE)\n",
    "nwave=load_wav_16k_mono(NOT_CAPUCHIN_FILE)"
   ]
  },
  {
   "cell_type": "code",
   "execution_count": null,
   "metadata": {},
   "outputs": [],
   "source": [
    "plt.plot(wave)\n",
    "plt.plot(nwave)\n",
    "plt.show()"
   ]
  },
  {
   "cell_type": "code",
   "execution_count": 65,
   "metadata": {},
   "outputs": [
    {
     "name": "stdout",
     "output_type": "stream",
     "text": [
      "Error: File 'data\\Parsed_Capuchinbird_Clips\\XC3776-0.wav' not found.\n",
      "Failed to load waveform.\n"
     ]
    }
   ],
   "source": [
    "import tensorflow as tf\n",
    "import tensorflow_io as tfio\n",
    "\n",
    "def load_wav_16k_mono(filename):\n",
    "    try:\n",
    "        with open(filename, 'rb') as file:\n",
    "            file_contents = file.read()\n",
    "        wav, sample_rate = tf.audio.decode_wav(file_contents, desired_channels=1)\n",
    "        wav = tf.squeeze(wav, axis=-1)\n",
    "        sample_rate = tf.cast(sample_rate, dtype=tf.int64)\n",
    "        wav = tfio.audio.resample(wav, rate_in=sample_rate, rate_out=16000)\n",
    "        return wav\n",
    "    except FileNotFoundError:\n",
    "        print(f\"Error: File '{filename}' not found.\")\n",
    "        return None\n",
    "    except Exception as e:\n",
    "        print(f\"Error loading '{filename}': {e}\")\n",
    "        return None\n",
    "\n",
    "# Usage example:\n",
    "wave = load_wav_16k_mono(CAPUCHIN_FILE)\n",
    "if wave is not None:\n",
    "    print(\"Waveform loaded successfully.\")\n",
    "else:\n",
    "    print(\"Failed to load waveform.\")"
   ]
  },
  {
   "cell_type": "code",
   "execution_count": null,
   "metadata": {},
   "outputs": [],
   "source": []
  }
 ],
 "metadata": {
  "kernelspec": {
   "display_name": "Python 3",
   "language": "python",
   "name": "python3"
  },
  "language_info": {
   "codemirror_mode": {
    "name": "ipython",
    "version": 3
   },
   "file_extension": ".py",
   "mimetype": "text/x-python",
   "name": "python",
   "nbconvert_exporter": "python",
   "pygments_lexer": "ipython3",
   "version": "3.9.13"
  }
 },
 "nbformat": 4,
 "nbformat_minor": 2
}
